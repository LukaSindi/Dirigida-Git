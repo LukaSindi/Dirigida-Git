{
 "cells": [
  {
   "cell_type": "code",
   "execution_count": 1,
   "id": "c2f73c33",
   "metadata": {},
   "outputs": [
    {
     "name": "stdout",
     "output_type": "stream",
     "text": [
      "esto es un codigo de ejemplo\n",
      "esto es un codigo de ejemplo\n",
      "esto es un codigo de ejemplo\n"
     ]
    }
   ],
   "source": [
    "for i in range(3):\n",
    "    print(\"esto es un codigo de ejemplo\")"
   ]
  },
  {
   "cell_type": "code",
   "execution_count": 2,
   "id": "fccc6548",
   "metadata": {},
   "outputs": [
    {
     "name": "stdout",
     "output_type": "stream",
     "text": [
      "Esto es un cambio\n",
      "Esto es un cambio\n",
      "Esto es un cambio\n",
      "Esto es un cambio\n",
      "Esto es un cambio\n",
      "Esto es un cambio\n",
      "Esto es un cambio\n",
      "Esto es un cambio\n",
      "Esto es un cambio\n",
      "Esto es un cambio\n"
     ]
    }
   ],
   "source": [
    "contador = 0\n",
    "while contador < 10:\n",
    "    print(\"Esto es un cambio\")\n",
    "    contador += 1"
   ]
  },
  {
   "cell_type": "code",
   "execution_count": null,
   "id": "8b6d9580",
   "metadata": {},
   "outputs": [],
   "source": []
  }
 ],
 "metadata": {
  "kernelspec": {
   "display_name": "Python 3 (ipykernel)",
   "language": "python",
   "name": "python3"
  },
  "language_info": {
   "codemirror_mode": {
    "name": "ipython",
    "version": 3
   },
   "file_extension": ".py",
   "mimetype": "text/x-python",
   "name": "python",
   "nbconvert_exporter": "python",
   "pygments_lexer": "ipython3",
   "version": "3.9.7"
  }
 },
 "nbformat": 4,
 "nbformat_minor": 5
}
